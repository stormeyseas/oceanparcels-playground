{
 "cells": [
  {
   "cell_type": "code",
   "execution_count": 133,
   "id": "3a001ba8",
   "metadata": {},
   "outputs": [
    {
     "name": "stdout",
     "output_type": "stream",
     "text": [
      "Once deleted, variables cannot be recovered. Proceed (y/[n])? y\n"
     ]
    }
   ],
   "source": [
    "%matplotlib inline\n",
    "%reset\n",
    "import numpy as np\n",
    "import pandas as pd\n",
    "import xarray as xr\n",
    "import matplotlib\n",
    "import matplotlib.patches as patches\n",
    "from matplotlib.ticker import FormatStrFormatter\n",
    "from matplotlib import pyplot as plt, animation\n",
    "from math import sqrt, pi, cos"
   ]
  },
  {
   "cell_type": "markdown",
   "id": "d49939e3",
   "metadata": {},
   "source": [
    "# Files and paths"
   ]
  },
  {
   "cell_type": "code",
   "execution_count": 134,
   "id": "a063f364",
   "metadata": {},
   "outputs": [],
   "source": [
    "path = \"E:\\\\OceanParcels\"\n",
    "final_path = path + \"\\\\data\\\\processed\\\\final grids\\\\final_\" # final grids\n",
    "fig_path = path + \"\\\\outputs\\\\figures\\\\\"\n",
    "coords = path + \"\\\\data\\\\processed\\\\coordinates.nc\"\n",
    "sc_path = path + \"\\\\data\\\\processed\\\\scenario data\\\\\"\n",
    "\n",
    "scenario = np.array([\"S0\", \"S1\", \"S2\", \"S3\", \"S4\", \"S5\", \"S6\"])\n",
    "mon_2 = np.array([\"may\", \"jun\", \"jul\", \"aug\", \"sep\", \"oct\"])"
   ]
  },
  {
   "cell_type": "markdown",
   "id": "d41f8a82",
   "metadata": {},
   "source": [
    "## Basic stuff"
   ]
  },
  {
   "cell_type": "code",
   "execution_count": 135,
   "id": "a9266fca",
   "metadata": {},
   "outputs": [],
   "source": [
    "dsc = xr.open_dataset(coords, decode_times = False).load()\n",
    "dsc.close()\n",
    "\n",
    "botz = dsc.botz.values*-1\n",
    "longitudes = dsc.lon_grid.values[0,:]\n",
    "latitudes = dsc.lat_grid.values[:,0]\n",
    "\n",
    "del dsc"
   ]
  },
  {
   "cell_type": "markdown",
   "id": "c522aab4",
   "metadata": {},
   "source": [
    "## Hydro data\n",
    "\n",
    "Loads up all the data previously generated and saved."
   ]
  },
  {
   "cell_type": "code",
   "execution_count": 140,
   "id": "288d7abc",
   "metadata": {},
   "outputs": [
    {
     "name": "stdout",
     "output_type": "stream",
     "text": [
      "E:\\OceanParcels\\data\\processed\\final grids\\final_may_S6_1.nc\n"
     ]
    }
   ],
   "source": [
    "# Choose\n",
    "sc = 6\n",
    "mo = 1\n",
    "\n",
    "runname = mon_2[mo] + \"_\" + scenario[sc]\n",
    "ds1name = final_path + runname + \"_1.nc\"\n",
    "print(ds1name)\n",
    "\n",
    "# ds1 contains the data\n",
    "ds1 = xr.open_dataset(ds1name, decode_times = False).load()\n",
    "ds1.close()\n",
    "\n",
    "tt = sum(np.shape(ds1.times_secs.values))\n",
    "\n",
    "U_mod = ds1.U_atten.values\n",
    "V_mod = ds1.V_atten.values\n",
    "W = ds1.W.values\n",
    "\n",
    "longitudes = longitudes[:41]\n",
    "latitudes = latitudes[:40]\n",
    "\n",
    "maxUVW = 0.8\n",
    "minUVW = 0.0"
   ]
  },
  {
   "cell_type": "markdown",
   "id": "832acd38",
   "metadata": {},
   "source": [
    "# Some pretty plots\n",
    "\n",
    "These are just to get a look at what the flow fields look like."
   ]
  },
  {
   "cell_type": "code",
   "execution_count": 147,
   "id": "3cc04a83",
   "metadata": {},
   "outputs": [
    {
     "data": {
      "image/png": "[encoded data removed]",
      "text/plain": [
       "<Figure size 700x700 with 1 Axes>"
      ]
     },
     "metadata": {},
     "output_type": "display_data"
    }
   ],
   "source": [
    "plt.rcParams[\"figure.figsize\"] = [7, 7]\n",
    "plt.rcParams[\"figure.autolayout\"] = True\n",
    "\n",
    "slice_U = np.squeeze(U_mod[:,7,0:40,0:41])\n",
    "slice_V = np.squeeze(V_mod[:,7,0:40,0:41])\n",
    "slice_W = np.squeeze(W[:,7,0:40,0:41])\n",
    "canopy_UVW = np.sqrt(np.power(slice_U,2)+np.power(slice_V,2)+np.power(slice_W,2))\n",
    "\n",
    "# Set up plotting\n",
    "fig = plt.figure()\n",
    "ax = plt.axes() \n",
    "# Animation function\n",
    "def animate(i): \n",
    "    z = canopy_UVW[i,:,:]\n",
    "    col = plt.pcolormesh(longitudes, latitudes, z, vmin = minUVW, vmax = maxUVW)\n",
    "    return col\n",
    "\n",
    "anim = matplotlib.animation.FuncAnimation(fig, animate, interval=10, frames = int(round(tt/10)))\n",
    "# All the formatting\n",
    "ax.set_yticks((np.linspace(yticks[0]+0.002, yticks[1]-0.002, 5)))\n",
    "ax.set_xticks((np.linspace(xticks[0]+0.005, xticks[1]-0.005, 5)))\n",
    "ax.set_xticks((np.linspace(xticks[0]+0.005, xticks[1]-0.005, 5)))\n",
    "ax.xaxis.set_major_formatter(matplotlib.ticker.FuncFormatter(fmt))\n",
    "ax.yaxis.set_major_formatter(matplotlib.ticker.FuncFormatter(fmt))\n",
    "ax.xaxis.set_major_formatter(matplotlib.ticker.FuncFormatter(fmt))\n",
    "ax.set_ylabel(\"Latitude\")\n",
    "ax.set_xlabel(\"Longitude\")\n",
    "ax.set_xlabel(\"Longitude\")\n",
    "#plt.colorbar(col, label = \"Relative attenuation\")\n",
    "\n",
    "anim.save(fig_path + \"canopy_UVW_\" + runname + \".gif\")"
   ]
  }
 ],
 "metadata": {
  "kernelspec": {
   "display_name": "Python 3 (ipykernel)",
   "language": "python",
   "name": "python3"
  },
  "language_info": {
   "codemirror_mode": {
    "name": "ipython",
    "version": 3
   },
   "file_extension": ".py",
   "mimetype": "text/x-python",
   "name": "python",
   "nbconvert_exporter": "python",
   "pygments_lexer": "ipython3",
   "version": "3.10.11"
  }
 },
 "nbformat": 4,
 "nbformat_minor": 5
}

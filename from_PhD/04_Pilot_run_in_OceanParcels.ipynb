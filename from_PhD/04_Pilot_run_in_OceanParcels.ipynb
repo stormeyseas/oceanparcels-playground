{
 "cells": [
  {
   "cell_type": "code",
   "execution_count": 1,
   "id": "3a001ba8",
   "metadata": {},
   "outputs": [],
   "source": [
    "%matplotlib inline\n",
    "import parcels\n",
    "from parcels import FieldSet, Field, AdvectionRK4_3D, AdvectionRK4, TimeConverter\n",
    "from parcels import ErrorCode, Variable, FieldSamplingError, plotTrajectoriesFile\n",
    "from parcels import JITParticle, ScipyParticle, ParticleFile, ParticleSet\n",
    "from parcels import logger, XarrayDecodedFilter, GeographicPolar, Geographic\n",
    "import numpy as np\n",
    "import pandas as pd\n",
    "import xarray as xr\n",
    "import matplotlib\n",
    "from matplotlib import pyplot as plt, animation\n",
    "import cartopy\n",
    "import datetime as dati\n",
    "import netCDF4 as ntc\n",
    "from operator import attrgetter\n",
    "import time as tm\n",
    "import os\n",
    "from os import chdir, getcwd\n",
    "import math\n",
    "from math import sqrt, pi, cos\n",
    "import warnings as wr\n",
    "from glob import glob"
   ]
  },
  {
   "cell_type": "code",
   "execution_count": 2,
   "id": "9731c75d",
   "metadata": {},
   "outputs": [],
   "source": [
    "# For working on home computer\n",
    "os.chdir(\"E:\\\\OceanParcels for real\\\\\")\n",
    "\n",
    "scens = np.array([\"S0\", \"S1\", \"S2\", \"S3\", \"S4\", \"S5\", \"S6\"])\n",
    "mon_1 = np.array([\"05\", \"06\", \"07\", \"08\", \"09\", \"10\"])\n",
    "mon_2 = np.array([\"may\", \"jun\", \"jul\", \"aug\", \"sep\", \"oct\"])"
   ]
  },
  {
   "cell_type": "markdown",
   "id": "ef1296e3",
   "metadata": {},
   "source": [
    "Loads up all the data previously generated and saved."
   ]
  },
  {
   "cell_type": "markdown",
   "id": "3a051ad8",
   "metadata": {},
   "source": [
    "### Attenuate flow field\n",
    "\n",
    "This is the important bit! I've chosen to attenuate U and V but not W, so that particle ($\\kappa$) velocity \n",
    "$UVW_{\\kappa} = \\sqrt{(u_c \\cdot U)^2+(u_c \\cdot V)^2 + W^2}$ instead of\n",
    "$UVW_{\\kappa} = \\sqrt{(u_c \\cdot U)^2+(u_c \\cdot V)^2 + (u_c \\cdot W)^2}$.\n",
    "\n",
    "I've done this for a few reasons. First, W is a lot smaller than U and V (see above printout) so it probably won't make too much of a difference. But more importantly, Plew's formula calculates depth-averaged attenuation and was derived through a mixture of theory and experimentation, so it seems to me like it's already taken W into account implicitly. Plus, if I attenuate W then the behaviour of particles will be changed such that they will have more difficulty \"falling out\" of the canopy because I'll at least partially be attenuating gravity, which is the opposite of how it works in real life."
   ]
  },
  {
   "cell_type": "code",
   "execution_count": 3,
   "id": "e9169ad5",
   "metadata": {},
   "outputs": [
    {
     "name": "stdout",
     "output_type": "stream",
     "text": [
      "Skipped!\n"
     ]
    }
   ],
   "source": [
    "%%script echo Skipped!\n",
    "\n",
    "# Fix the times_secs coordinates\n",
    "tt = sum(np.shape(ds3D_all.t.values))\n",
    "times_secs = np.linspace(start = 0, num = tt, stop = (tt-1)*dati.timedelta(minutes = 10).total_seconds())\n",
    "print(\"New end date: \",dati.datetime(2022,4,30,hour=14) + dati.timedelta(seconds=int(times_secs[tt-1])))\n",
    "ds3D_all.assign_coords(times_secs = ('t', times_secs))\n",
    "\n",
    "ds3D_all.to_netcdf(\"../data/processed/Attenuated_\"+scens[sc]+\"_alltimes.nc\")\n",
    "\n",
    "del ds3D_all"
   ]
  },
  {
   "cell_type": "markdown",
   "id": "477427b5",
   "metadata": {},
   "source": [
    "## Construct fieldset\n",
    "\n",
    "Load into an xarray, it's the easiest way to build the fieldset without screwing up the units (might have been a contributing factor in the tiny velocitiy problem!). Still have to call them U and V though otherwise parcels won't recognise them."
   ]
  },
  {
   "cell_type": "code",
   "execution_count": 4,
   "id": "a4efbb8e",
   "metadata": {},
   "outputs": [
    {
     "name": "stdout",
     "output_type": "stream",
     "text": [
      "You have created a fieldset with grid type: GridCode.CurvilinearSGrid\n"
     ]
    }
   ],
   "source": [
    "logger.addFilter(XarrayDecodedFilter())  # Add a filter for the xarray decoding warning\n",
    "\n",
    "final_path = \"E:\\\\OceanParcels for real\\\\data\\\\processed\\\\final grids\\\\\"\n",
    "coords = \"E:\\\\OceanParcels for real\\\\data\\\\processed\\\\coordinates.nc\"\n",
    "scen = '_S0.nc'\n",
    "\n",
    "files = [final_path + 'final_may' + scen, final_path + 'final_jun' + scen, \n",
    "         final_path + 'final_jul' + scen, final_path + 'final_aug' + scen, \n",
    "         final_path + 'final_sep' + scen, final_path + 'final_oct' + scen]\n",
    "\n",
    "with xr.open_dataset(coords) as cs:\n",
    "    lon_grid = cs.lon_grid.values\n",
    "    lat_grid = cs.lat_grid.values\n",
    "    dep_grid = cs.dep_grid.values\n",
    "    \n",
    "with xr.open_dataset(files[0]) as ds:\n",
    "    times_secs = ds.times_secs.values\n",
    "    U_atten = ds.U_atten.values\n",
    "    V_atten = ds.V_atten.values\n",
    "    W_atten = ds.W_atten.values\n",
    "\n",
    "vals = {'U': U_atten, 'V': V_atten, 'W': W_atten}\n",
    "\n",
    "dims = {'U': {'lon': lon_grid, 'lat': lat_grid, 'depth': dep_grid,  'time': times_secs},\n",
    "        'V': {'lon': lon_grid, 'lat': lat_grid, 'depth': dep_grid,  'time': times_secs},\n",
    "        'W': {'lon': lon_grid, 'lat': lat_grid, 'depth': dep_grid,  'time': times_secs}}\n",
    "\n",
    "fset = FieldSet.from_data(data = vals,\n",
    "                          dimensions = dims,\n",
    "                          #timestamps = [ds.times.values],\n",
    "                          #chunksize = 'auto', # might help if using from_netcdf?\n",
    "                          gridindexingtype = 'nemo')\n",
    "\n",
    "print(\"You have created a fieldset with grid type: %s\" %fset.W.grid.gtype)"
   ]
  },
  {
   "cell_type": "markdown",
   "id": "754dcf53",
   "metadata": {},
   "source": [
    "## Check it looks ok\n",
    "\n",
    "You'll notice that at on May 1st you can't see the canopy at all (the macroalgae is very small) but at day 30 you can just barely make out its influence on U (if you're not looking at S0)."
   ]
  },
  {
   "cell_type": "code",
   "execution_count": 5,
   "id": "c4b4f92e",
   "metadata": {},
   "outputs": [
    {
     "data": {
      "text/plain": [
       "2677800.0"
      ]
     },
     "execution_count": 5,
     "metadata": {},
     "output_type": "execute_result"
    }
   ],
   "source": [
    "#dati.timedelta(seconds=int(fset.U.grid.time_full[-1]))\n",
    "fset.U.grid.time_full[-1]"
   ]
  },
  {
   "cell_type": "code",
   "execution_count": 7,
   "id": "167e4f43",
   "metadata": {},
   "outputs": [
    {
     "name": "stderr",
     "output_type": "stream",
     "text": [
      "WARNING: Field.show() does not always correctly determine the domain for curvilinear grids. Use plotting with caution and perhaps use domain argument as in the NEMO 3D tutorial\n"
     ]
    },
    {
     "data": {
      "image/png": "[encoded data removed]",
      "text/plain": [
       "<Figure size 640x480 with 2 Axes>"
      ]
     },
     "metadata": {},
     "output_type": "display_data"
    },
    {
     "name": "stderr",
     "output_type": "stream",
     "text": [
      "WARNING: Field.show() does not always correctly determine the domain for curvilinear grids. Use plotting with caution and perhaps use domain argument as in the NEMO 3D tutorial\n"
     ]
    },
    {
     "data": {
      "image/png": "[encoded data removed]",
      "text/plain": [
       "<Figure size 640x480 with 2 Axes>"
      ]
     },
     "metadata": {},
     "output_type": "display_data"
    }
   ],
   "source": [
    "# warnings.simplefilter(\"ignore\", category = UserWarning) # matplotlib doesn't like the edge vs centre axes\n",
    "\n",
    "fset.U.show(show_time = dati.timedelta(days = 5).total_seconds(),\n",
    "                depth_level = 8)\n",
    "fset.U.show(show_time = dati.timedelta(days = 30).total_seconds(), \n",
    "                depth_level = 8)"
   ]
  },
  {
   "cell_type": "markdown",
   "id": "4431b82d",
   "metadata": {},
   "source": [
    "# Run parcels\n",
    "\n",
    "Set up particles first. The below code generates 240 random 3D coordinates, and then the particles are released at those coordinates one at a time, 2 minutes apart, for the whole runtime."
   ]
  },
  {
   "cell_type": "code",
   "execution_count": 90,
   "id": "a6493162",
   "metadata": {},
   "outputs": [],
   "source": [
    "class SpeedyParticle(ScipyParticle):\n",
    "    res_time = Variable('res_time', initial = 0., dtype = np.float32, to_write = True) # total time existing\n",
    "    dist = Variable('dist', initial = 0., dtype = np.float32, to_write = True)\n",
    "    prev_lon = Variable('prev_lon', dtype = np.float32, to_write = False, initial = attrgetter('lon'))\n",
    "    prev_lat = Variable('prev_lat', dtype = np.float32, to_write = False, initial = attrgetter('lat'))\n",
    "    prev_dep = Variable('prev_dep', dtype = np.float32, to_write = False, initial = attrgetter('depth'))\n",
    "    \n",
    "def Sample_Stuff(particle, fieldset, time):\n",
    "    from math import cos, pi, sqrt # don't know why this doesn't carry over\n",
    "    lat_dist = (particle.lat - particle.prev_lat) * 1.11e2 # 1.11e2 km per degree latitude\n",
    "    lon_dist = (particle.lon - particle.prev_lon) * 1.11e2 * cos(particle.lat * pi/180) # cosine(latitude)-spherical earth\n",
    "    ver_dist = (particle.depth - particle.prev_dep)/1e3\n",
    "    \n",
    "    particle.dist += sqrt(pow(lon_dist, 2) + pow(lat_dist, 2) + pow(ver_dist, 2))\n",
    "    particle.res_time += particle.dt\n",
    "    \n",
    "    # Set the stored values for next iteration\n",
    "    particle.prev_lon = particle.lon\n",
    "    particle.prev_lat = particle.lat\n",
    "    particle.prev_dep = particle.depth\n",
    "\n",
    "# Normal 3D advection kernel + custom field sampling\n",
    "pkern = pset.Kernel(AdvectionRK4_3D) + pset.Kernel(Sample_Stuff)\n",
    "\n",
    "def DeleteParticle(particle, fieldset, time): \n",
    "    particle.delete() # Deletes particle if it's out of bounds"
   ]
  },
  {
   "cell_type": "code",
   "execution_count": 130,
   "id": "ba9ff477",
   "metadata": {},
   "outputs": [
    {
     "name": "stdout",
     "output_type": "stream",
     "text": [
      "(100,) (100,) (100,)\n"
     ]
    }
   ],
   "source": [
    "# Releases 30 particles at grid of lats, lons and deps every ten hours\n",
    "lon_range = np.linspace(fset.U.grid.lon[2,2], fset.U.grid.lon[39,40], num = 10)\n",
    "lat_range = np.linspace(fset.U.grid.lat[2,2], fset.U.grid.lat[39,40], num = 10)\n",
    "\n",
    "# Create a grid of particles\n",
    "plons = np.repeat(lon_range, 10)\n",
    "plats = np.tile(lat_range, 10)\n",
    "\n",
    "# Randomise depths from list of possibilities\n",
    "dep_range = np.linspace(0.5, 40, num = 200) # constrained depth so they don't get stuck on the bottom - does it work?\n",
    "pdeps = np.random.choice(dep_range, size = 100)\n",
    "\n",
    "print(np.shape(plons), np.shape(plats), np.shape(pdeps))"
   ]
  },
  {
   "cell_type": "code",
   "execution_count": 131,
   "id": "c9bc57e3",
   "metadata": {},
   "outputs": [
    {
     "name": "stderr",
     "output_type": "stream",
     "text": [
      "WARNING: Field.show() does not always correctly determine the domain for curvilinear grids. Use plotting with caution and perhaps use domain argument as in the NEMO 3D tutorial\n"
     ]
    },
    {
     "data": {
      "image/png": "[encoded data removed]",
      "text/plain": [
       "<Figure size 640x480 with 2 Axes>"
      ]
     },
     "metadata": {},
     "output_type": "display_data"
    },
    {
     "data": {
      "text/plain": [
       "P[14254](lon=147.575150, lat=-43.117802, depth=38.809044, res_time=0.000000, dist=0.000000, time=0.000000)\n",
       "P[14255](lon=147.575150, lat=-43.114059, depth=31.464825, res_time=0.000000, dist=0.000000, time=0.000000)\n",
       "P[14256](lon=147.575150, lat=-43.110317, depth=13.798995, res_time=0.000000, dist=0.000000, time=0.000000)\n",
       "P[14257](lon=147.575150, lat=-43.106575, depth=20.547739, res_time=0.000000, dist=0.000000, time=0.000000)\n",
       "P[14258](lon=147.575150, lat=-43.102833, depth=21.738693, res_time=0.000000, dist=0.000000, time=0.000000)\n",
       "P[14259](lon=147.575150, lat=-43.099094, depth=31.464825, res_time=0.000000, dist=0.000000, time=0.000000)\n",
       "P[14260](lon=147.575150, lat=-43.095352, depth=22.334171, res_time=0.000000, dist=0.000000, time=0.000000)\n",
       "P[14261](lon=147.575150, lat=-43.091610, depth=8.439698, res_time=0.000000, dist=0.000000, time=0.000000)\n",
       "P[14262](lon=147.575150, lat=-43.087868, depth=1.889447, res_time=0.000000, dist=0.000000, time=0.000000)\n",
       "P[14263](lon=147.575150, lat=-43.084126, depth=19.753769, res_time=0.000000, dist=0.000000, time=0.000000)\n",
       "P[14264](lon=147.569962, lat=-43.117802, depth=13.402010, res_time=0.000000, dist=0.000000, time=0.000000)\n",
       "P[14265](lon=147.569962, lat=-43.114059, depth=17.967337, res_time=0.000000, dist=0.000000, time=0.000000)\n",
       "P[14266](lon=147.569962, lat=-43.110317, depth=10.027638, res_time=0.000000, dist=0.000000, time=0.000000)\n",
       "P[14267](lon=147.569962, lat=-43.106575, depth=29.678392, res_time=0.000000, dist=0.000000, time=0.000000)\n",
       "P[14268](lon=147.569962, lat=-43.102833, depth=13.005025, res_time=0.000000, dist=0.000000, time=0.000000)\n",
       "P[14269](lon=147.569962, lat=-43.099094, depth=14.195980, res_time=0.000000, dist=0.000000, time=0.000000)\n",
       "P[14270](lon=147.569962, lat=-43.095352, depth=27.693468, res_time=0.000000, dist=0.000000, time=0.000000)\n",
       "P[14271](lon=147.569962, lat=-43.091610, depth=21.341709, res_time=0.000000, dist=0.000000, time=0.000000)\n",
       "P[14272](lon=147.569962, lat=-43.087868, depth=38.015076, res_time=0.000000, dist=0.000000, time=0.000000)\n",
       "P[14273](lon=147.569962, lat=-43.084126, depth=28.884422, res_time=0.000000, dist=0.000000, time=0.000000)\n",
       "P[14274](lon=147.564758, lat=-43.117802, depth=35.633167, res_time=0.000000, dist=0.000000, time=0.000000)\n",
       "P[14275](lon=147.564758, lat=-43.114059, depth=4.271357, res_time=0.000000, dist=0.000000, time=0.000000)\n",
       "P[14276](lon=147.564758, lat=-43.110317, depth=28.288944, res_time=0.000000, dist=0.000000, time=0.000000)\n",
       "P[14277](lon=147.564758, lat=-43.106575, depth=14.592965, res_time=0.000000, dist=0.000000, time=0.000000)\n",
       "P[14278](lon=147.564758, lat=-43.102833, depth=0.896985, res_time=0.000000, dist=0.000000, time=0.000000)\n",
       "P[14279](lon=147.564758, lat=-43.099094, depth=16.776382, res_time=0.000000, dist=0.000000, time=0.000000)\n",
       "P[14280](lon=147.564758, lat=-43.095352, depth=12.211055, res_time=0.000000, dist=0.000000, time=0.000000)\n",
       "P[14281](lon=147.564758, lat=-43.091610, depth=27.097990, res_time=0.000000, dist=0.000000, time=0.000000)\n",
       "P[14282](lon=147.564758, lat=-43.087868, depth=7.248744, res_time=0.000000, dist=0.000000, time=0.000000)\n",
       "P[14283](lon=147.564758, lat=-43.084126, depth=11.417086, res_time=0.000000, dist=0.000000, time=0.000000)\n",
       "P[14284](lon=147.559570, lat=-43.117802, depth=19.753769, res_time=0.000000, dist=0.000000, time=0.000000)\n",
       "P[14285](lon=147.559570, lat=-43.114059, depth=27.296482, res_time=0.000000, dist=0.000000, time=0.000000)\n",
       "P[14286](lon=147.559570, lat=-43.110317, depth=6.851759, res_time=0.000000, dist=0.000000, time=0.000000)\n",
       "P[14287](lon=147.559570, lat=-43.106575, depth=31.464825, res_time=0.000000, dist=0.000000, time=0.000000)\n",
       "P[14288](lon=147.559570, lat=-43.102833, depth=19.555277, res_time=0.000000, dist=0.000000, time=0.000000)\n",
       "P[14289](lon=147.559570, lat=-43.099094, depth=33.846733, res_time=0.000000, dist=0.000000, time=0.000000)\n",
       "P[14290](lon=147.559570, lat=-43.095352, depth=25.907036, res_time=0.000000, dist=0.000000, time=0.000000)\n",
       "P[14291](lon=147.559570, lat=-43.091610, depth=11.615578, res_time=0.000000, dist=0.000000, time=0.000000)\n",
       "P[14292](lon=147.559570, lat=-43.087868, depth=8.638191, res_time=0.000000, dist=0.000000, time=0.000000)\n",
       "P[14293](lon=147.559570, lat=-43.084126, depth=29.876884, res_time=0.000000, dist=0.000000, time=0.000000)\n",
       "P[14294](lon=147.554382, lat=-43.117802, depth=14.989950, res_time=0.000000, dist=0.000000, time=0.000000)\n",
       "P[14295](lon=147.554382, lat=-43.114059, depth=4.866834, res_time=0.000000, dist=0.000000, time=0.000000)\n",
       "P[14296](lon=147.554382, lat=-43.110317, depth=10.821608, res_time=0.000000, dist=0.000000, time=0.000000)\n",
       "P[14297](lon=147.554382, lat=-43.106575, depth=4.469849, res_time=0.000000, dist=0.000000, time=0.000000)\n",
       "P[14298](lon=147.554382, lat=-43.102833, depth=8.241206, res_time=0.000000, dist=0.000000, time=0.000000)\n",
       "P[14299](lon=147.554382, lat=-43.099094, depth=3.874372, res_time=0.000000, dist=0.000000, time=0.000000)\n",
       "P[14300](lon=147.554382, lat=-43.095352, depth=18.959799, res_time=0.000000, dist=0.000000, time=0.000000)\n",
       "P[14301](lon=147.554382, lat=-43.091610, depth=26.899498, res_time=0.000000, dist=0.000000, time=0.000000)\n",
       "P[14302](lon=147.554382, lat=-43.087868, depth=27.494974, res_time=0.000000, dist=0.000000, time=0.000000)\n",
       "P[14303](lon=147.554382, lat=-43.084126, depth=38.610554, res_time=0.000000, dist=0.000000, time=0.000000)\n",
       "P[14304](lon=147.549179, lat=-43.117802, depth=18.165829, res_time=0.000000, dist=0.000000, time=0.000000)\n",
       "P[14305](lon=147.549179, lat=-43.114059, depth=22.334171, res_time=0.000000, dist=0.000000, time=0.000000)\n",
       "P[14306](lon=147.549179, lat=-43.110317, depth=12.608040, res_time=0.000000, dist=0.000000, time=0.000000)\n",
       "P[14307](lon=147.549179, lat=-43.106575, depth=28.288944, res_time=0.000000, dist=0.000000, time=0.000000)\n",
       "P[14308](lon=147.549179, lat=-43.102833, depth=30.273869, res_time=0.000000, dist=0.000000, time=0.000000)\n",
       "P[14309](lon=147.549179, lat=-43.099094, depth=28.090452, res_time=0.000000, dist=0.000000, time=0.000000)\n",
       "P[14310](lon=147.549179, lat=-43.095352, depth=20.150753, res_time=0.000000, dist=0.000000, time=0.000000)\n",
       "P[14311](lon=147.549179, lat=-43.091610, depth=16.379396, res_time=0.000000, dist=0.000000, time=0.000000)\n",
       "P[14312](lon=147.549179, lat=-43.087868, depth=26.105528, res_time=0.000000, dist=0.000000, time=0.000000)\n",
       "P[14313](lon=147.549179, lat=-43.084126, depth=27.891960, res_time=0.000000, dist=0.000000, time=0.000000)\n",
       "P[14314](lon=147.543991, lat=-43.117802, depth=32.060303, res_time=0.000000, dist=0.000000, time=0.000000)\n",
       "P[14315](lon=147.543991, lat=-43.114059, depth=11.417086, res_time=0.000000, dist=0.000000, time=0.000000)\n",
       "P[14316](lon=147.543991, lat=-43.110317, depth=2.683417, res_time=0.000000, dist=0.000000, time=0.000000)\n",
       "P[14317](lon=147.543991, lat=-43.106575, depth=23.922110, res_time=0.000000, dist=0.000000, time=0.000000)\n",
       "P[14318](lon=147.543991, lat=-43.102833, depth=10.821608, res_time=0.000000, dist=0.000000, time=0.000000)\n",
       "P[14319](lon=147.543991, lat=-43.099094, depth=16.379396, res_time=0.000000, dist=0.000000, time=0.000000)\n",
       "P[14320](lon=147.543991, lat=-43.095352, depth=21.738693, res_time=0.000000, dist=0.000000, time=0.000000)\n",
       "P[14321](lon=147.543991, lat=-43.091610, depth=4.668342, res_time=0.000000, dist=0.000000, time=0.000000)\n",
       "P[14322](lon=147.543991, lat=-43.087868, depth=21.738693, res_time=0.000000, dist=0.000000, time=0.000000)\n",
       "P[14323](lon=147.543991, lat=-43.084126, depth=22.731155, res_time=0.000000, dist=0.000000, time=0.000000)\n",
       "P[14324](lon=147.538803, lat=-43.117802, depth=4.469849, res_time=0.000000, dist=0.000000, time=0.000000)\n",
       "P[14325](lon=147.538803, lat=-43.114059, depth=39.404522, res_time=0.000000, dist=0.000000, time=0.000000)\n",
       "P[14326](lon=147.538803, lat=-43.110317, depth=37.022614, res_time=0.000000, dist=0.000000, time=0.000000)\n",
       "P[14327](lon=147.538803, lat=-43.106575, depth=7.248744, res_time=0.000000, dist=0.000000, time=0.000000)\n",
       "P[14328](lon=147.538803, lat=-43.102833, depth=28.884422, res_time=0.000000, dist=0.000000, time=0.000000)\n",
       "P[14329](lon=147.538803, lat=-43.099094, depth=7.050251, res_time=0.000000, dist=0.000000, time=0.000000)\n",
       "P[14330](lon=147.538803, lat=-43.095352, depth=28.288944, res_time=0.000000, dist=0.000000, time=0.000000)\n",
       "P[14331](lon=147.538803, lat=-43.091610, depth=22.532663, res_time=0.000000, dist=0.000000, time=0.000000)\n",
       "P[14332](lon=147.538803, lat=-43.087868, depth=1.690955, res_time=0.000000, dist=0.000000, time=0.000000)\n",
       "P[14333](lon=147.538803, lat=-43.084126, depth=21.143215, res_time=0.000000, dist=0.000000, time=0.000000)\n",
       "P[14334](lon=147.533600, lat=-43.117802, depth=31.464825, res_time=0.000000, dist=0.000000, time=0.000000)\n",
       "P[14335](lon=147.533600, lat=-43.114059, depth=34.243717, res_time=0.000000, dist=0.000000, time=0.000000)\n",
       "P[14336](lon=147.533600, lat=-43.110317, depth=39.603016, res_time=0.000000, dist=0.000000, time=0.000000)\n",
       "P[14337](lon=147.533600, lat=-43.106575, depth=2.286432, res_time=0.000000, dist=0.000000, time=0.000000)\n",
       "P[14338](lon=147.533600, lat=-43.102833, depth=0.896985, res_time=0.000000, dist=0.000000, time=0.000000)\n",
       "P[14339](lon=147.533600, lat=-43.099094, depth=26.105528, res_time=0.000000, dist=0.000000, time=0.000000)\n",
       "P[14340](lon=147.533600, lat=-43.095352, depth=23.525126, res_time=0.000000, dist=0.000000, time=0.000000)\n",
       "P[14341](lon=147.533600, lat=-43.091610, depth=13.600503, res_time=0.000000, dist=0.000000, time=0.000000)\n",
       "P[14342](lon=147.533600, lat=-43.087868, depth=31.067839, res_time=0.000000, dist=0.000000, time=0.000000)\n",
       "P[14343](lon=147.533600, lat=-43.084126, depth=4.866834, res_time=0.000000, dist=0.000000, time=0.000000)\n",
       "P[14344](lon=147.528412, lat=-43.117802, depth=37.022614, res_time=0.000000, dist=0.000000, time=0.000000)\n",
       "P[14345](lon=147.528412, lat=-43.114059, depth=35.434673, res_time=0.000000, dist=0.000000, time=0.000000)\n",
       "P[14346](lon=147.528412, lat=-43.110317, depth=37.618092, res_time=0.000000, dist=0.000000, time=0.000000)\n",
       "P[14347](lon=147.528412, lat=-43.106575, depth=28.288944, res_time=0.000000, dist=0.000000, time=0.000000)\n",
       "P[14348](lon=147.528412, lat=-43.102833, depth=14.394472, res_time=0.000000, dist=0.000000, time=0.000000)\n",
       "P[14349](lon=147.528412, lat=-43.099094, depth=23.723618, res_time=0.000000, dist=0.000000, time=0.000000)\n",
       "P[14350](lon=147.528412, lat=-43.095352, depth=13.600503, res_time=0.000000, dist=0.000000, time=0.000000)\n",
       "P[14351](lon=147.528412, lat=-43.091610, depth=23.128141, res_time=0.000000, dist=0.000000, time=0.000000)\n",
       "P[14352](lon=147.528412, lat=-43.087868, depth=16.180904, res_time=0.000000, dist=0.000000, time=0.000000)\n",
       "P[14353](lon=147.528412, lat=-43.084126, depth=16.180904, res_time=0.000000, dist=0.000000, time=0.000000)"
      ]
     },
     "execution_count": 131,
     "metadata": {},
     "output_type": "execute_result"
    }
   ],
   "source": [
    "pset = ParticleSet.from_list(fieldset = fset, pclass = SpeedyParticle, \n",
    "                             lon = plons, #np.random.uniform(*lon_range, size = (npart, )), \n",
    "                             lat = plats, #np.random.uniform(*lat_range, size = (npart, )), \n",
    "                             depth = pdeps, #np.random.uniform(*dep_range, size = (npart, )), \n",
    "                             time = np.zeros(100),\n",
    "                             repeatdt = dati.timedelta(hours = 10).total_seconds())\n",
    "pset.populate_indices() # more computationally efficient?\n",
    "pset.show(field = fset.U, depth_level = 8)\n",
    "pset"
   ]
  },
  {
   "cell_type": "markdown",
   "id": "6ad2c30d",
   "metadata": {},
   "source": [
    "# Execute!\n",
    "\n",
    "Did a bit of testing - generally, it takes less time to run particles with a repeatdt value than it does to run the same number of particles with their own assigned times. Run dt was 30 minutes and output dt was 1 hour for both tests.\n",
    "\n",
    "New test: pset.time is in format dati.timedelta().total_seconds(), pset.repeatdt is in format dati.timedelta(), but all times in pset.ParticleFile (outputdt) and pset.execute (runtime and dt) are in format dati.timedelta(). Does that come out correctly?"
   ]
  },
  {
   "cell_type": "code",
   "execution_count": null,
   "id": "8a80605d",
   "metadata": {},
   "outputs": [
    {
     "name": "stdout",
     "output_type": "stream",
     "text": [
      "Correct cell not found after 10000 iterations\n",
      "Correct cell not found after 10000 iterations\n",
      "Correct cell not found after 10000 iterations\n",
      "Correct cell not found after 10000 iterations\n",
      "Correct cell not found after 10000 iterations\n",
      "Correct cell not found after 10000 iterations\n"
     ]
    },
    {
     "name": "stderr",
     "output_type": "stream",
     "text": [
      "INFO: Output files are stored in outputs/atten_run_S0_may.zarr.\n",
      "  0%|          | 0/2678400.0 [00:00<?, ?it/s]"
     ]
    },
    {
     "name": "stdout",
     "output_type": "stream",
     "text": [
      "Correct cell not found after 10000 iterations\n",
      "Correct cell not found after 10000 iterations\n",
      "Correct cell not found after 10000 iterations\n"
     ]
    },
    {
     "name": "stderr",
     "output_type": "stream",
     "text": [
      "\r",
      "  1%|          | 18000.0/2678400.0 [00:03<08:47, 5039.36it/s]"
     ]
    },
    {
     "name": "stdout",
     "output_type": "stream",
     "text": [
      "Correct cell not found after 10000 iterations\n",
      "Correct cell not found after 10000 iterations\n",
      "Correct cell not found after 10000 iterations\n",
      "Correct cell not found after 10000 iterations\n",
      "Correct cell not found after 10000 iterations\n",
      "Correct cell not found after 10000 iterations\n"
     ]
    },
    {
     "name": "stderr",
     "output_type": "stream",
     "text": [
      "\r",
      "  1%|          | 21600.0/2678400.0 [00:07<18:09, 2437.45it/s]"
     ]
    },
    {
     "name": "stdout",
     "output_type": "stream",
     "text": [
      "Correct cell not found after 10000 iterations\n",
      "Correct cell not found after 10000 iterations\n",
      "Correct cell not found after 10000 iterations\n"
     ]
    },
    {
     "name": "stderr",
     "output_type": "stream",
     "text": [
      "  1%|          | 32400.0/2678400.0 [00:14<22:13, 1984.33it/s]C:\\ProgramData\\anaconda3\\envs\\parcels\\lib\\site-packages\\numpy\\core\\numeric.py:330: RuntimeWarning: invalid value encountered in cast\n",
      "  multiarray.copyto(a, fill_value, casting='unsafe')\n",
      "  1%|▏         | 39600.0/2678400.0 [00:21<31:42, 1386.78it/s]"
     ]
    },
    {
     "name": "stdout",
     "output_type": "stream",
     "text": [
      "Correct cell not found after 10000 iterations\n",
      "Correct cell not found after 10000 iterations\n"
     ]
    },
    {
     "name": "stderr",
     "output_type": "stream",
     "text": [
      "\r",
      "  2%|▏         | 43200.0/2678400.0 [00:25<37:13, 1179.62it/s]"
     ]
    },
    {
     "name": "stdout",
     "output_type": "stream",
     "text": [
      "Correct cell not found after 10000 iterations\n",
      "Correct cell not found after 10000 iterations\n",
      "Correct cell not found after 10000 iterations\n",
      "Correct cell not found after 10000 iterations\n",
      "Correct cell not found after 10000 iterations\n",
      "Correct cell not found after 10000 iterations\n"
     ]
    },
    {
     "name": "stderr",
     "output_type": "stream",
     "text": [
      "\r",
      "  2%|▏         | 46800.0/2678400.0 [00:30<45:16, 968.59it/s] "
     ]
    },
    {
     "name": "stdout",
     "output_type": "stream",
     "text": [
      "Correct cell not found after 10000 iterations\n"
     ]
    },
    {
     "name": "stderr",
     "output_type": "stream",
     "text": [
      "\r",
      "  2%|▏         | 50400.0/2678400.0 [00:34<45:46, 956.90it/s]"
     ]
    },
    {
     "name": "stdout",
     "output_type": "stream",
     "text": [
      "Correct cell not found after 10000 iterations\n",
      "Correct cell not found after 10000 iterations\n"
     ]
    },
    {
     "name": "stderr",
     "output_type": "stream",
     "text": [
      "\r",
      "  2%|▏         | 54000.0/2678400.0 [00:38<47:36, 918.59it/s]"
     ]
    },
    {
     "name": "stdout",
     "output_type": "stream",
     "text": [
      "Correct cell not found after 10000 iterations\n",
      "Correct cell not found after 10000 iterations\n"
     ]
    },
    {
     "name": "stderr",
     "output_type": "stream",
     "text": [
      "\r",
      "  2%|▏         | 57600.0/2678400.0 [00:43<49:38, 879.80it/s]"
     ]
    },
    {
     "name": "stdout",
     "output_type": "stream",
     "text": [
      "Correct cell not found after 10000 iterations\n"
     ]
    },
    {
     "name": "stderr",
     "output_type": "stream",
     "text": [
      "\r",
      "  2%|▏         | 61200.0/2678400.0 [00:47<49:13, 886.17it/s]"
     ]
    },
    {
     "name": "stdout",
     "output_type": "stream",
     "text": [
      "Correct cell not found after 10000 iterations\n",
      "Correct cell not found after 10000 iterations\n"
     ]
    },
    {
     "name": "stderr",
     "output_type": "stream",
     "text": [
      "\r",
      "  2%|▏         | 64800.0/2678400.0 [00:51<48:41, 894.75it/s]"
     ]
    },
    {
     "name": "stdout",
     "output_type": "stream",
     "text": [
      "Correct cell not found after 10000 iterations\n"
     ]
    },
    {
     "name": "stderr",
     "output_type": "stream",
     "text": [
      "\r",
      "  3%|▎         | 68400.0/2678400.0 [00:54<46:35, 933.57it/s]"
     ]
    },
    {
     "name": "stdout",
     "output_type": "stream",
     "text": [
      "Correct cell not found after 10000 iterations\n",
      "Correct cell not found after 10000 iterations\n",
      "Correct cell not found after 10000 iterations\n"
     ]
    },
    {
     "name": "stderr",
     "output_type": "stream",
     "text": [
      "  3%|▎         | 75600.0/2678400.0 [01:04<52:13, 830.56it/s]"
     ]
    },
    {
     "name": "stdout",
     "output_type": "stream",
     "text": [
      "Correct cell not found after 10000 iterations\n",
      "Correct cell not found after 10000 iterations\n",
      "Correct cell not found after 10000 iterations\n",
      "Correct cell not found after 10000 iterations\n",
      "Correct cell not found after 10000 iterations\n"
     ]
    },
    {
     "name": "stderr",
     "output_type": "stream",
     "text": [
      "\r",
      "  3%|▎         | 79200.0/2678400.0 [01:09<56:21, 768.65it/s]"
     ]
    },
    {
     "name": "stdout",
     "output_type": "stream",
     "text": [
      "Correct cell not found after 10000 iterations\n",
      "Correct cell not found after 10000 iterations\n",
      "Correct cell not found after 10000 iterations\n"
     ]
    },
    {
     "name": "stderr",
     "output_type": "stream",
     "text": [
      "\r",
      "  3%|▎         | 82800.0/2678400.0 [01:14<57:13, 755.98it/s]"
     ]
    },
    {
     "name": "stdout",
     "output_type": "stream",
     "text": [
      "Correct cell not found after 10000 iterations\n",
      "Correct cell not found after 10000 iterations\n",
      "Correct cell not found after 10000 iterations\n",
      "Correct cell not found after 10000 iterations\n",
      "Correct cell not found after 10000 iterations\n"
     ]
    },
    {
     "name": "stderr",
     "output_type": "stream",
     "text": [
      "\r",
      "  3%|▎         | 86400.0/2678400.0 [01:20<59:15, 728.96it/s]"
     ]
    },
    {
     "name": "stdout",
     "output_type": "stream",
     "text": [
      "Correct cell not found after 10000 iterations\n"
     ]
    },
    {
     "name": "stderr",
     "output_type": "stream",
     "text": [
      "  4%|▍         | 100800.0/2678400.0 [01:37<55:11, 778.41it/s]"
     ]
    },
    {
     "name": "stdout",
     "output_type": "stream",
     "text": [
      "Correct cell not found after 10000 iterations\n"
     ]
    },
    {
     "name": "stderr",
     "output_type": "stream",
     "text": [
      "  4%|▍         | 108000.0/2678400.0 [01:48<59:57, 714.46it/s]"
     ]
    },
    {
     "name": "stdout",
     "output_type": "stream",
     "text": [
      "Correct cell not found after 10000 iterations\n"
     ]
    },
    {
     "name": "stderr",
     "output_type": "stream",
     "text": [
      "\r",
      "  4%|▍         | 111600.0/2678400.0 [01:54<1:03:02, 678.53it/s]"
     ]
    },
    {
     "name": "stdout",
     "output_type": "stream",
     "text": [
      "Correct cell not found after 10000 iterations\n"
     ]
    },
    {
     "name": "stderr",
     "output_type": "stream",
     "text": [
      "\r",
      "  4%|▍         | 115200.0/2678400.0 [01:59<1:02:47, 680.30it/s]"
     ]
    },
    {
     "name": "stdout",
     "output_type": "stream",
     "text": [
      "Correct cell not found after 10000 iterations\n",
      "Correct cell not found after 10000 iterations\n"
     ]
    },
    {
     "name": "stderr",
     "output_type": "stream",
     "text": [
      "\r",
      "  4%|▍         | 118800.0/2678400.0 [02:04<1:03:23, 672.91it/s]"
     ]
    },
    {
     "name": "stdout",
     "output_type": "stream",
     "text": [
      "Correct cell not found after 10000 iterations\n",
      "Correct cell not found after 10000 iterations\n"
     ]
    },
    {
     "name": "stderr",
     "output_type": "stream",
     "text": [
      "\r",
      "  5%|▍         | 122400.0/2678400.0 [02:10<1:04:54, 656.38it/s]"
     ]
    },
    {
     "name": "stdout",
     "output_type": "stream",
     "text": [
      "Correct cell not found after 10000 iterations\n"
     ]
    },
    {
     "name": "stderr",
     "output_type": "stream",
     "text": [
      "\r",
      "  5%|▍         | 126000.0/2678400.0 [02:15<1:02:40, 678.68it/s]"
     ]
    },
    {
     "name": "stdout",
     "output_type": "stream",
     "text": [
      "Correct cell not found after 10000 iterations\n",
      "Correct cell not found after 10000 iterations\n"
     ]
    },
    {
     "name": "stderr",
     "output_type": "stream",
     "text": [
      "\r",
      "  5%|▍         | 129600.0/2678400.0 [02:21<1:03:23, 670.17it/s]"
     ]
    },
    {
     "name": "stdout",
     "output_type": "stream",
     "text": [
      "Correct cell not found after 10000 iterations\n"
     ]
    },
    {
     "name": "stderr",
     "output_type": "stream",
     "text": [
      "\r",
      "  5%|▍         | 133200.0/2678400.0 [02:26<1:01:42, 687.51it/s]"
     ]
    },
    {
     "name": "stdout",
     "output_type": "stream",
     "text": [
      "Correct cell not found after 10000 iterations\n"
     ]
    },
    {
     "name": "stderr",
     "output_type": "stream",
     "text": [
      "\r",
      "  5%|▌         | 136800.0/2678400.0 [02:30<58:58, 718.31it/s]  "
     ]
    },
    {
     "name": "stdout",
     "output_type": "stream",
     "text": [
      "Correct cell not found after 10000 iterations\n"
     ]
    },
    {
     "name": "stderr",
     "output_type": "stream",
     "text": [
      "  6%|▌         | 147600.0/2678400.0 [02:48<1:07:41, 623.11it/s]"
     ]
    },
    {
     "name": "stdout",
     "output_type": "stream",
     "text": [
      "Correct cell not found after 10000 iterations\n",
      "Correct cell not found after 10000 iterations\n"
     ]
    },
    {
     "name": "stderr",
     "output_type": "stream",
     "text": [
      "\r",
      "  6%|▌         | 151200.0/2678400.0 [02:55<1:09:14, 608.31it/s]"
     ]
    },
    {
     "name": "stdout",
     "output_type": "stream",
     "text": [
      "Correct cell not found after 10000 iterations\n",
      "Correct cell not found after 10000 iterations\n",
      "Correct cell not found after 10000 iterations\n",
      "Correct cell not found after 10000 iterations\n",
      "Correct cell not found after 10000 iterations\n"
     ]
    },
    {
     "name": "stderr",
     "output_type": "stream",
     "text": [
      "\r",
      "  6%|▌         | 154800.0/2678400.0 [03:01<1:12:51, 577.25it/s]"
     ]
    },
    {
     "name": "stdout",
     "output_type": "stream",
     "text": [
      "Correct cell not found after 10000 iterations\n",
      "Correct cell not found after 10000 iterations\n"
     ]
    },
    {
     "name": "stderr",
     "output_type": "stream",
     "text": [
      "  6%|▌         | 162000.0/2678400.0 [03:12<1:07:09, 624.55it/s]"
     ]
    },
    {
     "name": "stdout",
     "output_type": "stream",
     "text": [
      "Correct cell not found after 10000 iterations\n",
      "Correct cell not found after 10000 iterations\n",
      "Correct cell not found after 10000 iterations\n",
      "Correct cell not found after 10000 iterations\n"
     ]
    },
    {
     "name": "stderr",
     "output_type": "stream",
     "text": [
      "\r",
      "  6%|▌         | 165600.0/2678400.0 [03:18<1:08:49, 608.55it/s]"
     ]
    },
    {
     "name": "stdout",
     "output_type": "stream",
     "text": [
      "Correct cell not found after 10000 iterations\n",
      "Correct cell not found after 10000 iterations\n",
      "Correct cell not found after 10000 iterations\n",
      "Correct cell not found after 10000 iterations\n",
      "Correct cell not found after 10000 iterations\n"
     ]
    },
    {
     "name": "stderr",
     "output_type": "stream",
     "text": [
      "  7%|▋         | 183600.0/2678400.0 [03:51<1:16:33, 543.16it/s]"
     ]
    },
    {
     "name": "stdout",
     "output_type": "stream",
     "text": [
      "Correct cell not found after 10000 iterations\n",
      "Correct cell not found after 10000 iterations\n",
      "Correct cell not found after 10000 iterations\n"
     ]
    },
    {
     "name": "stderr",
     "output_type": "stream",
     "text": [
      "\r",
      "  7%|▋         | 187200.0/2678400.0 [03:58<1:18:19, 530.11it/s]"
     ]
    },
    {
     "name": "stdout",
     "output_type": "stream",
     "text": [
      "Correct cell not found after 10000 iterations\n"
     ]
    },
    {
     "name": "stderr",
     "output_type": "stream",
     "text": [
      "\r",
      "  7%|▋         | 190800.0/2678400.0 [04:04<1:16:22, 542.80it/s]"
     ]
    },
    {
     "name": "stdout",
     "output_type": "stream",
     "text": [
      "Correct cell not found after 10000 iterations\n",
      "Correct cell not found after 10000 iterations\n",
      "Correct cell not found after 10000 iterations\n"
     ]
    },
    {
     "name": "stderr",
     "output_type": "stream",
     "text": [
      "\r",
      "  7%|▋         | 194400.0/2678400.0 [04:11<1:16:11, 543.34it/s]"
     ]
    },
    {
     "name": "stdout",
     "output_type": "stream",
     "text": [
      "Correct cell not found after 10000 iterations\n",
      "Correct cell not found after 10000 iterations\n",
      "Correct cell not found after 10000 iterations\n",
      "Correct cell not found after 10000 iterations\n",
      "Correct cell not found after 10000 iterations\n",
      "Correct cell not found after 10000 iterations\n",
      "Correct cell not found after 10000 iterations\n",
      "Correct cell not found after 10000 iterations\n"
     ]
    },
    {
     "name": "stderr",
     "output_type": "stream",
     "text": [
      "\r",
      "  7%|▋         | 198000.0/2678400.0 [04:19<1:22:14, 502.66it/s]"
     ]
    },
    {
     "name": "stdout",
     "output_type": "stream",
     "text": [
      "Correct cell not found after 10000 iterations\n",
      "Correct cell not found after 10000 iterations\n",
      "Correct cell not found after 10000 iterations\n",
      "Correct cell not found after 10000 iterations\n",
      "Correct cell not found after 10000 iterations\n",
      "Correct cell not found after 10000 iterations\n",
      "Correct cell not found after 10000 iterations\n",
      "Correct cell not found after 10000 iterations\n"
     ]
    },
    {
     "name": "stderr",
     "output_type": "stream",
     "text": [
      "\r",
      "  8%|▊         | 201600.0/2678400.0 [04:27<1:25:26, 483.12it/s]"
     ]
    },
    {
     "name": "stdout",
     "output_type": "stream",
     "text": [
      "Correct cell not found after 10000 iterations\n",
      "Correct cell not found after 10000 iterations\n",
      "Correct cell not found after 10000 iterations\n"
     ]
    },
    {
     "name": "stderr",
     "output_type": "stream",
     "text": [
      "\r",
      "  8%|▊         | 205200.0/2678400.0 [04:34<1:24:06, 490.12it/s]"
     ]
    },
    {
     "name": "stdout",
     "output_type": "stream",
     "text": [
      "Correct cell not found after 10000 iterations\n"
     ]
    },
    {
     "name": "stderr",
     "output_type": "stream",
     "text": [
      "\r",
      "  8%|▊         | 208800.0/2678400.0 [04:41<1:20:35, 510.72it/s]"
     ]
    },
    {
     "name": "stdout",
     "output_type": "stream",
     "text": [
      "Correct cell not found after 10000 iterations\n"
     ]
    },
    {
     "name": "stderr",
     "output_type": "stream",
     "text": [
      "\r",
      "  8%|▊         | 212400.0/2678400.0 [04:46<1:15:46, 542.34it/s]"
     ]
    },
    {
     "name": "stdout",
     "output_type": "stream",
     "text": [
      "Correct cell not found after 10000 iterations\n",
      "Correct cell not found after 10000 iterations\n",
      "Correct cell not found after 10000 iterations\n",
      "Correct cell not found after 10000 iterations\n",
      "Correct cell not found after 10000 iterations\n"
     ]
    },
    {
     "name": "stderr",
     "output_type": "stream",
     "text": [
      "  8%|▊         | 216000.0/2678400.0 [05:00<1:38:08, 418.14it/s]"
     ]
    },
    {
     "name": "stdout",
     "output_type": "stream",
     "text": [
      "Correct cell not found after 10000 iterations\n"
     ]
    },
    {
     "name": "stderr",
     "output_type": "stream",
     "text": [
      "\r",
      "  8%|▊         | 219600.0/2678400.0 [05:07<1:32:55, 440.98it/s]"
     ]
    },
    {
     "name": "stdout",
     "output_type": "stream",
     "text": [
      "Correct cell not found after 10000 iterations\n",
      "Correct cell not found after 10000 iterations\n",
      "Correct cell not found after 10000 iterations\n"
     ]
    },
    {
     "name": "stderr",
     "output_type": "stream",
     "text": [
      "\r",
      "  8%|▊         | 223200.0/2678400.0 [05:14<1:30:08, 453.99it/s]"
     ]
    },
    {
     "name": "stdout",
     "output_type": "stream",
     "text": [
      "Correct cell not found after 10000 iterations\n",
      "Correct cell not found after 10000 iterations\n",
      "Correct cell not found after 10000 iterations\n",
      "Correct cell not found after 10000 iterations\n"
     ]
    },
    {
     "name": "stderr",
     "output_type": "stream",
     "text": [
      "\r",
      "  8%|▊         | 226800.0/2678400.0 [05:22<1:29:04, 458.72it/s]"
     ]
    },
    {
     "name": "stdout",
     "output_type": "stream",
     "text": [
      "Correct cell not found after 10000 iterations\n",
      "Correct cell not found after 10000 iterations\n"
     ]
    },
    {
     "name": "stderr",
     "output_type": "stream",
     "text": [
      "\r",
      "  9%|▊         | 230400.0/2678400.0 [05:28<1:24:41, 481.79it/s]"
     ]
    },
    {
     "name": "stdout",
     "output_type": "stream",
     "text": [
      "Correct cell not found after 10000 iterations\n",
      "Correct cell not found after 10000 iterations\n",
      "Correct cell not found after 10000 iterations\n"
     ]
    },
    {
     "name": "stderr",
     "output_type": "stream",
     "text": [
      "  9%|▉         | 237600.0/2678400.0 [05:42<1:20:16, 506.75it/s]"
     ]
    },
    {
     "name": "stdout",
     "output_type": "stream",
     "text": [
      "Correct cell not found after 10000 iterations\n"
     ]
    },
    {
     "name": "stderr",
     "output_type": "stream",
     "text": [
      "\r",
      "  9%|▉         | 241200.0/2678400.0 [05:48<1:17:59, 520.86it/s]"
     ]
    },
    {
     "name": "stdout",
     "output_type": "stream",
     "text": [
      "Correct cell not found after 10000 iterations\n"
     ]
    },
    {
     "name": "stderr",
     "output_type": "stream",
     "text": [
      "\r",
      "  9%|▉         | 244800.0/2678400.0 [05:55<1:16:58, 526.90it/s]"
     ]
    },
    {
     "name": "stdout",
     "output_type": "stream",
     "text": [
      "Correct cell not found after 10000 iterations\n"
     ]
    },
    {
     "name": "stderr",
     "output_type": "stream",
     "text": [
      "  9%|▉         | 252000.0/2678400.0 [06:15<1:36:31, 418.99it/s]"
     ]
    },
    {
     "name": "stdout",
     "output_type": "stream",
     "text": [
      "Correct cell not found after 10000 iterations\n"
     ]
    },
    {
     "name": "stderr",
     "output_type": "stream",
     "text": [
      "\r",
      " 10%|▉         | 255600.0/2678400.0 [06:22<1:34:08, 428.95it/s]"
     ]
    },
    {
     "name": "stdout",
     "output_type": "stream",
     "text": [
      "Correct cell not found after 10000 iterations\n",
      "Correct cell not found after 10000 iterations\n"
     ]
    },
    {
     "name": "stderr",
     "output_type": "stream",
     "text": [
      "\r",
      " 10%|▉         | 259200.0/2678400.0 [06:30<1:32:00, 438.20it/s]"
     ]
    },
    {
     "name": "stdout",
     "output_type": "stream",
     "text": [
      "Correct cell not found after 10000 iterations\n",
      "Correct cell not found after 10000 iterations\n",
      "Correct cell not found after 10000 iterations\n",
      "Correct cell not found after 10000 iterations\n",
      "Correct cell not found after 10000 iterations\n",
      "Correct cell not found after 10000 iterations\n"
     ]
    },
    {
     "name": "stderr",
     "output_type": "stream",
     "text": [
      "\r",
      " 10%|▉         | 262800.0/2678400.0 [06:39<1:34:29, 426.04it/s]"
     ]
    },
    {
     "name": "stdout",
     "output_type": "stream",
     "text": [
      "Correct cell not found after 10000 iterations\n",
      "Correct cell not found after 10000 iterations\n",
      "Correct cell not found after 10000 iterations\n",
      "Correct cell not found after 10000 iterations\n"
     ]
    },
    {
     "name": "stderr",
     "output_type": "stream",
     "text": [
      "\r",
      " 10%|▉         | 266400.0/2678400.0 [06:48<1:33:56, 427.94it/s]"
     ]
    },
    {
     "name": "stdout",
     "output_type": "stream",
     "text": [
      "Correct cell not found after 10000 iterations\n",
      "Correct cell not found after 10000 iterations\n",
      "Correct cell not found after 10000 iterations\n",
      "Correct cell not found after 10000 iterations\n"
     ]
    },
    {
     "name": "stderr",
     "output_type": "stream",
     "text": [
      "\r",
      " 10%|█         | 270000.0/2678400.0 [06:56<1:32:38, 433.26it/s]"
     ]
    },
    {
     "name": "stdout",
     "output_type": "stream",
     "text": [
      "Correct cell not found after 10000 iterations\n",
      "Correct cell not found after 10000 iterations\n",
      "Correct cell not found after 10000 iterations\n",
      "Correct cell not found after 10000 iterations\n",
      "Correct cell not found after 10000 iterations\n",
      "Correct cell not found after 10000 iterations\n"
     ]
    },
    {
     "name": "stderr",
     "output_type": "stream",
     "text": [
      "\r",
      " 10%|█         | 273600.0/2678400.0 [07:03<1:30:28, 442.98it/s]"
     ]
    },
    {
     "name": "stdout",
     "output_type": "stream",
     "text": [
      "Correct cell not found after 10000 iterations\n",
      "Correct cell not found after 10000 iterations\n",
      "Correct cell not found after 10000 iterations\n",
      "Correct cell not found after 10000 iterations\n",
      "Correct cell not found after 10000 iterations\n"
     ]
    },
    {
     "name": "stderr",
     "output_type": "stream",
     "text": [
      "\r",
      " 10%|█         | 277200.0/2678400.0 [07:11<1:27:53, 455.37it/s]"
     ]
    },
    {
     "name": "stdout",
     "output_type": "stream",
     "text": [
      "Correct cell not found after 10000 iterations\n",
      "Correct cell not found after 10000 iterations\n",
      "Correct cell not found after 10000 iterations\n",
      "Correct cell not found after 10000 iterations\n",
      "Correct cell not found after 10000 iterations\n"
     ]
    },
    {
     "name": "stderr",
     "output_type": "stream",
     "text": [
      "\r",
      " 10%|█         | 280800.0/2678400.0 [07:18<1:24:47, 471.29it/s]"
     ]
    },
    {
     "name": "stdout",
     "output_type": "stream",
     "text": [
      "Correct cell not found after 10000 iterations\n",
      "Correct cell not found after 10000 iterations\n",
      "Correct cell not found after 10000 iterations\n",
      "Correct cell not found after 10000 iterations\n",
      "Correct cell not found after 10000 iterations\n"
     ]
    },
    {
     "name": "stderr",
     "output_type": "stream",
     "text": [
      "\r",
      " 11%|█         | 284400.0/2678400.0 [07:25<1:21:59, 486.62it/s]"
     ]
    },
    {
     "name": "stdout",
     "output_type": "stream",
     "text": [
      "Correct cell not found after 10000 iterations\n"
     ]
    },
    {
     "name": "stderr",
     "output_type": "stream",
     "text": [
      " 11%|█         | 288000.0/2678400.0 [07:38<1:40:48, 395.17it/s]"
     ]
    },
    {
     "name": "stdout",
     "output_type": "stream",
     "text": [
      "Correct cell not found after 10000 iterations\n",
      "Correct cell not found after 10000 iterations\n",
      "Correct cell not found after 10000 iterations\n",
      "Correct cell not found after 10000 iterations\n",
      "Correct cell not found after 10000 iterations\n",
      "Correct cell not found after 10000 iterations\n"
     ]
    },
    {
     "name": "stderr",
     "output_type": "stream",
     "text": [
      "\r",
      " 11%|█         | 291600.0/2678400.0 [07:47<1:41:04, 393.56it/s]"
     ]
    },
    {
     "name": "stdout",
     "output_type": "stream",
     "text": [
      "Correct cell not found after 10000 iterations\n",
      "Correct cell not found after 10000 iterations\n",
      "Correct cell not found after 10000 iterations\n",
      "Correct cell not found after 10000 iterations\n",
      "Correct cell not found after 10000 iterations\n",
      "Correct cell not found after 10000 iterations\n",
      "Correct cell not found after 10000 iterations\n",
      "Correct cell not found after 10000 iterations\n"
     ]
    },
    {
     "name": "stderr",
     "output_type": "stream",
     "text": [
      "\r",
      " 11%|█         | 295200.0/2678400.0 [07:56<1:39:41, 398.43it/s]"
     ]
    },
    {
     "name": "stdout",
     "output_type": "stream",
     "text": [
      "Correct cell not found after 10000 iterations\n",
      "Correct cell not found after 10000 iterations\n",
      "Correct cell not found after 10000 iterations\n",
      "Correct cell not found after 10000 iterations\n",
      "Correct cell not found after 10000 iterations\n"
     ]
    },
    {
     "name": "stderr",
     "output_type": "stream",
     "text": [
      "\r",
      " 11%|█         | 298800.0/2678400.0 [08:04<1:35:33, 415.03it/s]"
     ]
    },
    {
     "name": "stdout",
     "output_type": "stream",
     "text": [
      "Correct cell not found after 10000 iterations\n",
      "Correct cell not found after 10000 iterations\n",
      "Correct cell not found after 10000 iterations\n",
      "Correct cell not found after 10000 iterations\n",
      "Correct cell not found after 10000 iterations\n"
     ]
    },
    {
     "name": "stderr",
     "output_type": "stream",
     "text": [
      "\r",
      " 11%|█▏        | 302400.0/2678400.0 [08:11<1:32:35, 427.70it/s]"
     ]
    },
    {
     "name": "stdout",
     "output_type": "stream",
     "text": [
      "Correct cell not found after 10000 iterations\n",
      "Correct cell not found after 10000 iterations\n",
      "Correct cell not found after 10000 iterations\n"
     ]
    },
    {
     "name": "stderr",
     "output_type": "stream",
     "text": [
      " 12%|█▏        | 309600.0/2678400.0 [08:22<1:15:02, 526.14it/s]"
     ]
    },
    {
     "name": "stdout",
     "output_type": "stream",
     "text": [
      "Correct cell not found after 10000 iterations\n",
      "Correct cell not found after 10000 iterations\n"
     ]
    },
    {
     "name": "stderr",
     "output_type": "stream",
     "text": [
      "\r",
      " 12%|█▏        | 313200.0/2678400.0 [08:28<1:09:46, 564.89it/s]"
     ]
    },
    {
     "name": "stdout",
     "output_type": "stream",
     "text": [
      "Correct cell not found after 10000 iterations\n",
      "Correct cell not found after 10000 iterations\n"
     ]
    },
    {
     "name": "stderr",
     "output_type": "stream",
     "text": [
      "\r",
      " 12%|█▏        | 316800.0/2678400.0 [08:33<1:05:59, 596.43it/s]"
     ]
    },
    {
     "name": "stdout",
     "output_type": "stream",
     "text": [
      "Correct cell not found after 10000 iterations\n",
      "Correct cell not found after 10000 iterations\n"
     ]
    },
    {
     "name": "stderr",
     "output_type": "stream",
     "text": [
      "\r",
      " 12%|█▏        | 320400.0/2678400.0 [08:38<1:02:01, 633.58it/s]"
     ]
    },
    {
     "name": "stdout",
     "output_type": "stream",
     "text": [
      "Correct cell not found after 10000 iterations\n",
      "Correct cell not found after 10000 iterations\n"
     ]
    },
    {
     "name": "stderr",
     "output_type": "stream",
     "text": [
      "\r",
      " 12%|█▏        | 324000.0/2678400.0 [08:51<1:25:33, 458.62it/s]"
     ]
    },
    {
     "name": "stdout",
     "output_type": "stream",
     "text": [
      "Correct cell not found after 10000 iterations\n"
     ]
    },
    {
     "name": "stderr",
     "output_type": "stream",
     "text": [
      "\r",
      " 12%|█▏        | 327600.0/2678400.0 [08:57<1:19:44, 491.36it/s]"
     ]
    },
    {
     "name": "stdout",
     "output_type": "stream",
     "text": [
      "Correct cell not found after 10000 iterations\n",
      "Correct cell not found after 10000 iterations\n",
      "Correct cell not found after 10000 iterations\n",
      "Correct cell not found after 10000 iterations\n",
      "Correct cell not found after 10000 iterations\n",
      "Correct cell not found after 10000 iterations\n"
     ]
    },
    {
     "name": "stderr",
     "output_type": "stream",
     "text": [
      " 13%|█▎        | 338400.0/2678400.0 [09:14<1:06:24, 587.23it/s]"
     ]
    },
    {
     "name": "stdout",
     "output_type": "stream",
     "text": [
      "Correct cell not found after 10000 iterations\n",
      "Correct cell not found after 10000 iterations\n"
     ]
    },
    {
     "name": "stderr",
     "output_type": "stream",
     "text": [
      "\r",
      " 13%|█▎        | 342000.0/2678400.0 [09:20<1:06:32, 585.15it/s]"
     ]
    },
    {
     "name": "stdout",
     "output_type": "stream",
     "text": [
      "Correct cell not found after 10000 iterations\n"
     ]
    },
    {
     "name": "stderr",
     "output_type": "stream",
     "text": [
      "\r",
      " 13%|█▎        | 345600.0/2678400.0 [09:26<1:05:32, 593.20it/s]"
     ]
    },
    {
     "name": "stdout",
     "output_type": "stream",
     "text": [
      "Correct cell not found after 10000 iterations\n",
      "Correct cell not found after 10000 iterations\n",
      "Correct cell not found after 10000 iterations\n",
      "Correct cell not found after 10000 iterations\n",
      "Correct cell not found after 10000 iterations\n",
      "Correct cell not found after 10000 iterations\n",
      "Correct cell not found after 10000 iterations\n",
      "Correct cell not found after 10000 iterations\n"
     ]
    },
    {
     "name": "stderr",
     "output_type": "stream",
     "text": [
      "\r",
      " 13%|█▎        | 349200.0/2678400.0 [09:34<1:10:02, 554.21it/s]"
     ]
    },
    {
     "name": "stdout",
     "output_type": "stream",
     "text": [
      "Correct cell not found after 10000 iterations\n",
      "Correct cell not found after 10000 iterations\n",
      "Correct cell not found after 10000 iterations\n",
      "Correct cell not found after 10000 iterations\n",
      "Correct cell not found after 10000 iterations\n",
      "Correct cell not found after 10000 iterations\n",
      "Correct cell not found after 10000 iterations\n",
      "Correct cell not found after 10000 iterations\n",
      "Correct cell not found after 10000 iterations\n",
      "Correct cell not found after 10000 iterations\n",
      "Correct cell not found after 10000 iterations\n",
      "Correct cell not found after 10000 iterations\n",
      "Correct cell not found after 10000 iterations\n",
      "Correct cell not found after 10000 iterations\n"
     ]
    },
    {
     "name": "stderr",
     "output_type": "stream",
     "text": [
      "\r",
      " 13%|█▎        | 352800.0/2678400.0 [09:43<1:19:30, 487.52it/s]"
     ]
    },
    {
     "name": "stdout",
     "output_type": "stream",
     "text": [
      "Correct cell not found after 10000 iterations\n",
      "Correct cell not found after 10000 iterations\n",
      "Correct cell not found after 10000 iterations\n",
      "Correct cell not found after 10000 iterations\n",
      "Correct cell not found after 10000 iterations\n",
      "Correct cell not found after 10000 iterations\n"
     ]
    },
    {
     "name": "stderr",
     "output_type": "stream",
     "text": [
      "\r",
      " 13%|█▎        | 356400.0/2678400.0 [09:51<1:20:15, 482.24it/s]"
     ]
    },
    {
     "name": "stdout",
     "output_type": "stream",
     "text": [
      "Correct cell not found after 10000 iterations\n",
      "Correct cell not found after 10000 iterations\n",
      "Correct cell not found after 10000 iterations\n",
      "Correct cell not found after 10000 iterations\n",
      "Correct cell not found after 10000 iterations\n",
      "Correct cell not found after 10000 iterations\n",
      "Correct cell not found after 10000 iterations\n",
      "Correct cell not found after 10000 iterations\n"
     ]
    },
    {
     "name": "stderr",
     "output_type": "stream",
     "text": [
      "\r",
      " 13%|█▎        | 360000.0/2678400.0 [10:06<1:44:20, 370.30it/s]"
     ]
    },
    {
     "name": "stdout",
     "output_type": "stream",
     "text": [
      "Correct cell not found after 10000 iterations\n"
     ]
    },
    {
     "name": "stderr",
     "output_type": "stream",
     "text": [
      "\r",
      " 14%|█▎        | 363600.0/2678400.0 [10:13<1:35:01, 405.96it/s]"
     ]
    },
    {
     "name": "stdout",
     "output_type": "stream",
     "text": [
      "Correct cell not found after 10000 iterations\n"
     ]
    }
   ],
   "source": [
    "%%time\n",
    "\n",
    "outname = \"outputs/atten_run_S0_may.zarr\"\n",
    "outfile = pset.ParticleFile(name = outname, outputdt = dati.timedelta(hours = 1))\n",
    "\n",
    "pset.execute(pkern, output_file = outfile,\n",
    "             runtime = dati.timedelta(days = 31),\n",
    "             dt = dati.timedelta(minutes = 10),\n",
    "             recovery = {ErrorCode.ErrorOutOfBounds: DeleteParticle})"
   ]
  },
  {
   "cell_type": "markdown",
   "id": "c502a6d5",
   "metadata": {},
   "source": [
    "# Initial plots\n",
    "\n",
    "These first ones are just to make sure it looks OK. There's a seperate notebook for the proper plotting."
   ]
  },
  {
   "cell_type": "code",
   "execution_count": 88,
   "id": "a38b9ada",
   "metadata": {},
   "outputs": [
    {
     "data": {
      "image/png": "[encoded data removed]",
      "text/plain": [
       "<Figure size 640x480 with 2 Axes>"
      ]
     },
     "metadata": {},
     "output_type": "display_data"
    },
    {
     "data": {
      "image/png": "[encoded data removed]",
      "text/plain": [
       "<Figure size 640x480 with 1 Axes>"
      ]
     },
     "metadata": {},
     "output_type": "display_data"
    },
    {
     "data": {
      "text/plain": [
       "<module 'matplotlib.pyplot' from 'C:\\\\ProgramData\\\\anaconda3\\\\envs\\\\parcels\\\\lib\\\\site-packages\\\\matplotlib\\\\pyplot.py'>"
      ]
     },
     "execution_count": 88,
     "metadata": {},
     "output_type": "execute_result"
    }
   ],
   "source": [
    "#warnings.simplefilter(\"ignore\", category = RuntimeWarning) # This is because xarray is just incessant\n",
    "#plotTrajectoriesFile(outname, mode = \"2d\")\n",
    "plotTrajectoriesFile(outname, mode = \"hist2d\")\n",
    "plotTrajectoriesFile(outname, mode = \"3d\")\n",
    "#plotTrajectoriesFile(outname, mode = \"movie2d_notebook\")#, recordedvar = \"res_time\")\n",
    "#anim.save(\"../outputs/particles_\"+mo+\"_\"+sc+\".gif\")"
   ]
  },
  {
   "cell_type": "code",
   "execution_count": null,
   "id": "9028a681",
   "metadata": {},
   "outputs": [],
   "source": []
  }
 ],
 "metadata": {
  "kernelspec": {
   "display_name": "Python 3 (ipykernel)",
   "language": "python",
   "name": "python3"
  },
  "language_info": {
   "codemirror_mode": {
    "name": "ipython",
    "version": 3
   },
   "file_extension": ".py",
   "mimetype": "text/x-python",
   "name": "python",
   "nbconvert_exporter": "python",
   "pygments_lexer": "ipython3",
   "version": "3.10.11"
  }
 },
 "nbformat": 4,
 "nbformat_minor": 5
}

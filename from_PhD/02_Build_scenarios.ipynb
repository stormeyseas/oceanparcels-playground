{
 "cells": [
  {
   "cell_type": "code",
   "execution_count": 1,
   "id": "465b1be3",
   "metadata": {},
   "outputs": [],
   "source": [
    "#Setup\n",
    "%matplotlib inline\n",
    "from parcels import FieldSet, ParticleSet, JITParticle, AdvectionRK4_3D, AdvectionRK4, ParticleFile, ErrorCode, Variable, VectorField, Field, FieldSamplingError, plotTrajectoriesFile, GeographicPolar, Geographic, logger\n",
    "from parcels import TimeConverter\n",
    "import numpy as np\n",
    "from glob import glob\n",
    "import matplotlib\n",
    "from matplotlib import pyplot as plt\n",
    "from datetime import timedelta\n",
    "import netCDF4 as ntc\n",
    "import math\n",
    "from operator import attrgetter\n",
    "import time\n",
    "import sys\n",
    "import PIL"
   ]
  },
  {
   "cell_type": "markdown",
   "id": "5d96dfc9",
   "metadata": {},
   "source": [
    "## Paths and files"
   ]
  },
  {
   "cell_type": "code",
   "execution_count": 2,
   "id": "0705eeaa",
   "metadata": {},
   "outputs": [],
   "source": [
    "path = \"E:\\\\OceanParcels\"\n",
    "outpath = path + \"\\\\data\\\\processed\\\\scenario data\\\\\"\n",
    "scenario = [\"S1\", \"S2\", \"S3\", \"S4\", \"S5\", \"S6\"]"
   ]
  },
  {
   "cell_type": "markdown",
   "id": "548719d7",
   "metadata": {},
   "source": [
    "### Canopy positions"
   ]
  },
  {
   "cell_type": "code",
   "execution_count": 6,
   "id": "77613b46",
   "metadata": {},
   "outputs": [],
   "source": [
    "ii = 43\n",
    "jj = 42\n",
    "\n",
    "# Generate and save scenarios\n",
    "for sc in range(6):\n",
    "    dscen = np.squeeze(\n",
    "        np.genfromtxt(\"../../Scenarios - mac position files/indices for OP/\" + scenario[sc] + \".csv\", \n",
    "                      delimiter = \",\"))\n",
    "    canopy = np.zeros(shape = (jj, ii), dtype = 'int')\n",
    "    for n in range(9):\n",
    "        ai = int(dscen[n,0]-1)\n",
    "        bi = int(dscen[n,1])\n",
    "        aj = int(dscen[n,2]-1)\n",
    "        bj = int(dscen[n,3])\n",
    "        ilist = range(ai, bi)\n",
    "        jlist = range(aj, bj)\n",
    "        for xi in range(ii):\n",
    "            for yi in range(jj):\n",
    "                if xi in ilist and yi in jlist:\n",
    "                    canopy[yi,xi] = 1\n",
    "                    \n",
    "    np.save(outpath + scenario[sc] + \".npy\", canopy)"
   ]
  },
  {
   "cell_type": "markdown",
   "id": "5763fae5",
   "metadata": {},
   "source": [
    "### Kelp density data"
   ]
  },
  {
   "cell_type": "code",
   "execution_count": 15,
   "id": "175a4cbe",
   "metadata": {},
   "outputs": [
    {
     "name": "stdout",
     "output_type": "stream",
     "text": [
      "365\n",
      "[0.00373025 0.00373025 0.0039314  0.00412141 0.00430297]\n"
     ]
    }
   ],
   "source": [
    "# From 1 year of model run, starting May 1st\n",
    "D = np.genfromtxt('../data/raw/year_D.csv', delimiter = ',')[:,1] # First column is date, starts at 1/5/22\n",
    "nD = sum(np.shape(D))\n",
    "D = D[1:nD] # One expty space at the beginning, one extra day at the end\n",
    "print(sum(np.shape(D)))\n",
    "\n",
    "np.save(outpath+\"D\", D)\n",
    "print(D[0:5])"
   ]
  },
  {
   "cell_type": "code",
   "execution_count": 14,
   "id": "766ecf26",
   "metadata": {},
   "outputs": [],
   "source": [
    "mons = np.array([\"may\", \"jun\", \"jul\", \"aug\", \"sep\", \"oct\", \"nov\", \"dec\", \"jan\", \"feb\", \"mar\", \"apr\"])\n",
    "days = np.array([31, 30, 31, 31, 30, 31, 30, 31, 31, 28, 31, 30])\n",
    "cday = np.array([120, 151, 181, 212, 243, 273, 303, 334, 0, 31, 59, 90])\n",
    "dday = np.array([0,  \n",
    "                 0+days[0],  \n",
    "                 0+days[0]+days[1],  \n",
    "                 0+days[0]+days[1]+days[2], \n",
    "                 0+days[0]+days[1]+days[2]+days[3], \n",
    "                 0+days[0]+days[1]+days[2]+days[3]+days[4], \n",
    "                 0+days[0]+days[1]+days[2]+days[3]+days[4]+days[5], \n",
    "                 0+days[0]+days[1]+days[2]+days[3]+days[4]+days[5]+days[6], \n",
    "                 0+days[0]+days[1]+days[2]+days[3]+days[4]+days[5]+days[6]+days[7], \n",
    "                 0+days[0]+days[1]+days[2]+days[3]+days[4]+days[5]+days[6]+days[7]+days[8], \n",
    "                 0+days[0]+days[1]+days[2]+days[3]+days[4]+days[5]+days[6]+days[7]+days[8]+days[9], \n",
    "                 0+days[0]+days[1]+days[2]+days[3]+days[4]+days[5]+days[6]+days[7]+days[8]+days[9]+days[10]])\n",
    "\n",
    "for i in range(12):\n",
    "    x = np.linspace(cday[i], cday[i]+days[i], days[i])\n",
    "    y = D[dday[i]:(dday[i]+days[i])]\n",
    "    #plt.plot(x, y, 'o')\n",
    "    xvals = np.linspace(cday[i], cday[i]+days[i], days[i]*24*6) # output is in ten-minute intervals!\n",
    "    yinterp = np.interp(xvals, x, y)\n",
    "    #print(sum(np.shape(yinterp)))\n",
    "    #plt.plot(xvals, yinterp, '-x')\n",
    "    np.save(outpath+\"D_interp_\"+mons[i]+\".npy\", yinterp)"
   ]
  },
  {
   "cell_type": "markdown",
   "id": "25ba923e",
   "metadata": {},
   "source": [
    "### Relative canopy height"
   ]
  },
  {
   "cell_type": "code",
   "execution_count": 18,
   "id": "88033fbf",
   "metadata": {},
   "outputs": [
    {
     "name": "stdout",
     "output_type": "stream",
     "text": [
      "0.19246874666910302 0.24693287489255294\n"
     ]
    }
   ],
   "source": [
    "# Above, with scens\n",
    "print(np.nanmin(hc), np.nanmax(hc))"
   ]
  },
  {
   "cell_type": "markdown",
   "id": "9adf5422",
   "metadata": {},
   "source": [
    "## Define attenuation function"
   ]
  },
  {
   "cell_type": "code",
   "execution_count": null,
   "id": "2a09d25b",
   "metadata": {},
   "outputs": [],
   "source": [
    "    "
   ]
  }
 ],
 "metadata": {
  "celltoolbar": "Raw Cell Format",
  "kernelspec": {
   "display_name": "Python 3 (ipykernel)",
   "language": "python",
   "name": "python3"
  },
  "language_info": {
   "codemirror_mode": {
    "name": "ipython",
    "version": 3
   },
   "file_extension": ".py",
   "mimetype": "text/x-python",
   "name": "python",
   "nbconvert_exporter": "python",
   "pygments_lexer": "ipython3",
   "version": "3.12.3"
  }
 },
 "nbformat": 4,
 "nbformat_minor": 5
}

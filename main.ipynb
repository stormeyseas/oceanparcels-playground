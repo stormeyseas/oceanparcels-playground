{
 "cells": [
  {
   "cell_type": "markdown",
   "id": "4c64a551",
   "metadata": {},
   "source": [
    "# OceanParcels"
   ]
  },
  {
   "cell_type": "code",
   "execution_count": null,
   "id": "71f795d4",
   "metadata": {},
   "outputs": [],
   "source": [
    "import parcels\n"
   ]
  }
 ],
 "metadata": {
  "language_info": {
   "name": "python"
  }
 },
 "nbformat": 4,
 "nbformat_minor": 5
}
